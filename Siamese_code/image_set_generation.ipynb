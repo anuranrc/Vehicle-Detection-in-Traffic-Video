{
 "cells": [
  {
   "cell_type": "code",
   "execution_count": 1,
   "metadata": {},
   "outputs": [],
   "source": [
    "#import cPickle\n",
    "import cv2\n",
    "import os\n",
    "import numpy as np\n",
    "import PIL\n",
    "import glob\n",
    "import matplotlib.pyplot as plt"
   ]
  },
  {
   "cell_type": "code",
   "execution_count": 2,
   "metadata": {},
   "outputs": [],
   "source": [
    "#x=0\n",
    "image_batch= []\n",
    "for file in glob.glob(\"D:/Projects/Tracking Project/Datasets/UA-Detrac Dataset/Insight-MVT_Annotation_Train/MVI_20011/*.jpg\"):\n",
    "    image_batch.append([cv2.imread(file)])\n",
    "    #x+=1\n",
    "    #if x==10:\n",
    "        #break"
   ]
  },
  {
   "cell_type": "code",
   "execution_count": 7,
   "metadata": {
    "scrolled": true
   },
   "outputs": [
    {
     "data": {
      "text/plain": [
       "array([[[ 50,  54,  59],\n",
       "        [ 50,  54,  59],\n",
       "        [ 49,  53,  58],\n",
       "        ...,\n",
       "        [ 92,  91, 101],\n",
       "        [ 92,  90, 102],\n",
       "        [ 93,  91, 103]],\n",
       "\n",
       "       [[ 46,  50,  55],\n",
       "        [ 44,  48,  53],\n",
       "        [ 41,  45,  50],\n",
       "        ...,\n",
       "        [ 93,  92, 102],\n",
       "        [ 94,  92, 104],\n",
       "        [ 95,  93, 105]],\n",
       "\n",
       "       [[ 50,  54,  59],\n",
       "        [ 50,  54,  59],\n",
       "        [ 47,  51,  56],\n",
       "        ...,\n",
       "        [ 96,  94, 106],\n",
       "        [ 96,  94, 106],\n",
       "        [ 96,  94, 106]],\n",
       "\n",
       "       ...,\n",
       "\n",
       "       [[116, 125, 135],\n",
       "        [ 90,  99, 109],\n",
       "        [ 86,  95, 105],\n",
       "        ...,\n",
       "        [130, 135, 138],\n",
       "        [129, 134, 137],\n",
       "        [127, 132, 135]],\n",
       "\n",
       "       [[114, 123, 133],\n",
       "        [100, 109, 119],\n",
       "        [ 91, 100, 110],\n",
       "        ...,\n",
       "        [129, 134, 137],\n",
       "        [129, 134, 137],\n",
       "        [128, 133, 136]],\n",
       "\n",
       "       [[105, 114, 124],\n",
       "        [103, 112, 122],\n",
       "        [ 89,  98, 108],\n",
       "        ...,\n",
       "        [126, 131, 134],\n",
       "        [128, 133, 136],\n",
       "        [128, 133, 136]]], dtype=uint8)"
      ]
     },
     "execution_count": 7,
     "metadata": {},
     "output_type": "execute_result"
    }
   ],
   "source": [
    "image_batch[663][0]"
   ]
  },
  {
   "cell_type": "code",
   "execution_count": 15,
   "metadata": {
    "scrolled": true
   },
   "outputs": [
    {
     "data": {
      "text/plain": [
       "array([[[ 66,  68,  78],\n",
       "        [ 70,  72,  82],\n",
       "        [ 69,  71,  81],\n",
       "        ...,\n",
       "        [118, 117, 133],\n",
       "        [118, 117, 133],\n",
       "        [118, 118, 132]],\n",
       "\n",
       "       [[ 65,  67,  77],\n",
       "        [ 70,  72,  82],\n",
       "        [ 70,  72,  82],\n",
       "        ...,\n",
       "        [120, 120, 134],\n",
       "        [120, 120, 134],\n",
       "        [120, 120, 134]],\n",
       "\n",
       "       [[ 63,  65,  75],\n",
       "        [ 66,  68,  78],\n",
       "        [ 66,  68,  78],\n",
       "        ...,\n",
       "        [120, 120, 134],\n",
       "        [120, 120, 134],\n",
       "        [120, 120, 134]],\n",
       "\n",
       "       ...,\n",
       "\n",
       "       [[ 71,  75,  86],\n",
       "        [ 50,  54,  65],\n",
       "        [ 44,  48,  59],\n",
       "        ...,\n",
       "        [119, 122, 126],\n",
       "        [117, 120, 124],\n",
       "        [126, 129, 133]],\n",
       "\n",
       "       [[ 80,  84,  95],\n",
       "        [ 54,  58,  69],\n",
       "        [ 42,  46,  57],\n",
       "        ...,\n",
       "        [122, 125, 129],\n",
       "        [132, 135, 139],\n",
       "        [144, 147, 151]],\n",
       "\n",
       "       [[ 83,  87,  98],\n",
       "        [ 54,  58,  69],\n",
       "        [ 38,  42,  53],\n",
       "        ...,\n",
       "        [132, 135, 139],\n",
       "        [153, 156, 160],\n",
       "        [147, 150, 154]]], dtype=uint8)"
      ]
     },
     "execution_count": 15,
     "metadata": {},
     "output_type": "execute_result"
    }
   ],
   "source": [
    "images[0]"
   ]
  },
  {
   "cell_type": "code",
   "execution_count": 37,
   "metadata": {
    "scrolled": true
   },
   "outputs": [
    {
     "data": {
      "text/plain": [
       "array([[[ 62,  63,  77],\n",
       "        [ 70,  72,  83],\n",
       "        [ 69,  71,  82],\n",
       "        ...,\n",
       "        [111, 115, 133],\n",
       "        [110, 114, 132],\n",
       "        [110, 114, 132]],\n",
       "\n",
       "       [[ 64,  66,  77],\n",
       "        [ 69,  71,  82],\n",
       "        [ 66,  68,  79],\n",
       "        ...,\n",
       "        [111, 115, 133],\n",
       "        [110, 114, 132],\n",
       "        [110, 114, 132]],\n",
       "\n",
       "       [[ 63,  65,  76],\n",
       "        [ 64,  66,  77],\n",
       "        [ 60,  62,  73],\n",
       "        ...,\n",
       "        [112, 116, 134],\n",
       "        [111, 115, 133],\n",
       "        [111, 115, 133]],\n",
       "\n",
       "       ...,\n",
       "\n",
       "       [[ 43,  48,  57],\n",
       "        [ 43,  48,  57],\n",
       "        [ 80,  85,  94],\n",
       "        ...,\n",
       "        [108, 113, 116],\n",
       "        [111, 116, 119],\n",
       "        [132, 137, 140]],\n",
       "\n",
       "       [[ 48,  54,  61],\n",
       "        [ 43,  49,  56],\n",
       "        [ 76,  82,  89],\n",
       "        ...,\n",
       "        [116, 121, 124],\n",
       "        [124, 129, 132],\n",
       "        [140, 145, 148]],\n",
       "\n",
       "       [[ 47,  53,  60],\n",
       "        [ 40,  46,  53],\n",
       "        [ 72,  78,  85],\n",
       "        ...,\n",
       "        [139, 142, 146],\n",
       "        [140, 143, 147],\n",
       "        [136, 139, 143]]], dtype=uint8)"
      ]
     },
     "execution_count": 37,
     "metadata": {},
     "output_type": "execute_result"
    }
   ],
   "source": [
    "img=cv2.imread('img00001.jpg')\n",
    "img"
   ]
  },
  {
   "cell_type": "code",
   "execution_count": 54,
   "metadata": {},
   "outputs": [
    {
     "data": {
      "text/plain": [
       "(540, 960, 3)"
      ]
     },
     "execution_count": 54,
     "metadata": {},
     "output_type": "execute_result"
    }
   ],
   "source": [
    "img.shape"
   ]
  },
  {
   "cell_type": "code",
   "execution_count": 55,
   "metadata": {},
   "outputs": [
    {
     "data": {
      "text/plain": [
       "1555200"
      ]
     },
     "execution_count": 55,
     "metadata": {},
     "output_type": "execute_result"
    }
   ],
   "source": [
    "img.size"
   ]
  },
  {
   "cell_type": "code",
   "execution_count": 56,
   "metadata": {},
   "outputs": [
    {
     "data": {
      "text/plain": [
       "dtype('uint8')"
      ]
     },
     "execution_count": 56,
     "metadata": {},
     "output_type": "execute_result"
    }
   ],
   "source": [
    "img.dtype"
   ]
  },
  {
   "cell_type": "code",
   "execution_count": null,
   "metadata": {},
   "outputs": [],
   "source": []
  },
  {
   "cell_type": "code",
   "execution_count": 65,
   "metadata": {},
   "outputs": [],
   "source": [
    "cv2.imshow('arc', img)\n",
    "cv2.waitKey()\n",
    "cv2.destroyAllWindows()"
   ]
  },
  {
   "cell_type": "code",
   "execution_count": null,
   "metadata": {},
   "outputs": [],
   "source": [
    "#crop_img = img[y:y+h, x:x+w]"
   ]
  },
  {
   "cell_type": "code",
   "execution_count": 64,
   "metadata": {
    "scrolled": false
   },
   "outputs": [
    {
     "data": {
      "text/plain": [
       "-1"
      ]
     },
     "execution_count": 64,
     "metadata": {},
     "output_type": "execute_result"
    }
   ],
   "source": [
    "cropped = img[200:800, 500:900]\n",
    "cv2.imshow(\"cropped\", cropped)\n",
    "cv2.waitKey(0)"
   ]
  },
  {
   "cell_type": "code",
   "execution_count": 42,
   "metadata": {},
   "outputs": [
    {
     "data": {
      "text/plain": [
       "-1"
      ]
     },
     "execution_count": 42,
     "metadata": {},
     "output_type": "execute_result"
    }
   ],
   "source": [
    "dim= (800, 400)\n",
    "resized = cv2.resize(img, dim, interpolation = cv2.INTER_AREA)\n",
    "cv2.imshow(\"resized\", resized)\n",
    "cv2.waitKey(0)"
   ]
  },
  {
   "cell_type": "code",
   "execution_count": null,
   "metadata": {},
   "outputs": [],
   "source": []
  },
  {
   "cell_type": "code",
   "execution_count": null,
   "metadata": {},
   "outputs": [],
   "source": []
  },
  {
   "cell_type": "code",
   "execution_count": null,
   "metadata": {},
   "outputs": [],
   "source": []
  },
  {
   "cell_type": "markdown",
   "metadata": {},
   "source": [
    "### Bbox Xml Parsing"
   ]
  },
  {
   "cell_type": "code",
   "execution_count": 32,
   "metadata": {},
   "outputs": [],
   "source": [
    "import xml.etree.ElementTree as ET\n",
    "tree = ET.parse('MVI_20011.xml')\n",
    "root = tree.getroot()"
   ]
  },
  {
   "cell_type": "code",
   "execution_count": 4,
   "metadata": {
    "collapsed": true
   },
   "outputs": [
    {
     "data": {
      "text/plain": [
       "[<Element 'frame' at 0x000002237FEE0C78>,\n",
       " <Element 'frame' at 0x000002237FEEE4A8>,\n",
       " <Element 'frame' at 0x000002237FEEEC78>,\n",
       " <Element 'frame' at 0x000002237FEF84A8>,\n",
       " <Element 'frame' at 0x000002237FEF8C78>,\n",
       " <Element 'frame' at 0x000002237FF004A8>,\n",
       " <Element 'frame' at 0x000002237FF00B88>,\n",
       " <Element 'frame' at 0x000002237FF092C8>,\n",
       " <Element 'frame' at 0x000002237FF099A8>,\n",
       " <Element 'frame' at 0x000002237FF110E8>,\n",
       " <Element 'frame' at 0x000002237FF117C8>,\n",
       " <Element 'frame' at 0x000002237FF11EA8>,\n",
       " <Element 'frame' at 0x000002237FF1C5E8>,\n",
       " <Element 'frame' at 0x000002237FF1CCC8>,\n",
       " <Element 'frame' at 0x000002237FF25408>,\n",
       " <Element 'frame' at 0x000002237FF25A48>,\n",
       " <Element 'frame' at 0x000002237FF2C0E8>,\n",
       " <Element 'frame' at 0x000002237FF2C728>,\n",
       " <Element 'frame' at 0x000002237FF2CD68>,\n",
       " <Element 'frame' at 0x000002237FF35408>,\n",
       " <Element 'frame' at 0x000002237FF35A48>,\n",
       " <Element 'frame' at 0x000002237FF3D0E8>,\n",
       " <Element 'frame' at 0x000002237FF3D728>,\n",
       " <Element 'frame' at 0x000002237FF3DD68>,\n",
       " <Element 'frame' at 0x000002237FF45408>,\n",
       " <Element 'frame' at 0x000002237FF45BD8>,\n",
       " <Element 'frame' at 0x000002237FF4E408>,\n",
       " <Element 'frame' at 0x000002237FF4EBD8>,\n",
       " <Element 'frame' at 0x000002237FF58408>,\n",
       " <Element 'frame' at 0x000002237FF58BD8>,\n",
       " <Element 'frame' at 0x000002237FF61408>,\n",
       " <Element 'frame' at 0x000002237FF61BD8>,\n",
       " <Element 'frame' at 0x000002237FF6A408>,\n",
       " <Element 'frame' at 0x000002237FF6ABD8>,\n",
       " <Element 'frame' at 0x000002237FF734F8>,\n",
       " <Element 'frame' at 0x000002237FF73DB8>,\n",
       " <Element 'frame' at 0x000002237FF7C6D8>,\n",
       " <Element 'frame' at 0x000002237FF851D8>,\n",
       " <Element 'frame' at 0x000002237FF85C78>,\n",
       " <Element 'frame' at 0x000002237FF8D778>,\n",
       " <Element 'frame' at 0x000002237FF97278>,\n",
       " <Element 'frame' at 0x000002237FF97D18>,\n",
       " <Element 'frame' at 0x000002237FFA0818>,\n",
       " <Element 'frame' at 0x000002237FFA8318>,\n",
       " <Element 'frame' at 0x000002237FFA8DB8>,\n",
       " <Element 'frame' at 0x000002237FFB18B8>,\n",
       " <Element 'frame' at 0x000002237FFBB3B8>,\n",
       " <Element 'frame' at 0x000002237FFBBEF8>,\n",
       " <Element 'frame' at 0x000002237FFC4A98>,\n",
       " <Element 'frame' at 0x000002237FFCC638>,\n",
       " <Element 'frame' at 0x00000223008061D8>,\n",
       " <Element 'frame' at 0x0000022300806D18>,\n",
       " <Element 'frame' at 0x000002230080E8B8>,\n",
       " <Element 'frame' at 0x0000022300817458>,\n",
       " <Element 'frame' at 0x0000022300817F98>,\n",
       " <Element 'frame' at 0x0000022300820B38>,\n",
       " <Element 'frame' at 0x00000223008296D8>,\n",
       " <Element 'frame' at 0x0000022300831278>,\n",
       " <Element 'frame' at 0x0000022300831DB8>,\n",
       " <Element 'frame' at 0x0000022300839958>,\n",
       " <Element 'frame' at 0x00000223008434F8>,\n",
       " <Element 'frame' at 0x000002230084D188>,\n",
       " <Element 'frame' at 0x000002230084DDB8>,\n",
       " <Element 'frame' at 0x0000022300855A48>,\n",
       " <Element 'frame' at 0x000002230085E868>,\n",
       " <Element 'frame' at 0x0000022300868688>,\n",
       " <Element 'frame' at 0x00000223008714A8>,\n",
       " <Element 'frame' at 0x00000223008792C8>,\n",
       " <Element 'frame' at 0x00000223008820E8>,\n",
       " <Element 'frame' at 0x0000022300882EA8>,\n",
       " <Element 'frame' at 0x000002230088CCC8>,\n",
       " <Element 'frame' at 0x0000022300895AE8>,\n",
       " <Element 'frame' at 0x000002230089C908>,\n",
       " <Element 'frame' at 0x00000223008A5638>,\n",
       " <Element 'frame' at 0x00000223008B0368>,\n",
       " <Element 'frame' at 0x00000223008B9098>,\n",
       " <Element 'frame' at 0x00000223008B9CC8>,\n",
       " <Element 'frame' at 0x00000223008C1958>,\n",
       " <Element 'frame' at 0x00000223008CA5E8>,\n",
       " <Element 'frame' at 0x00000223008D3548>,\n",
       " <Element 'frame' at 0x00000223008DD4A8>,\n",
       " <Element 'frame' at 0x00000223008E6408>,\n",
       " <Element 'frame' at 0x00000223008EF368>,\n",
       " <Element 'frame' at 0x00000223008F82C8>,\n",
       " <Element 'frame' at 0x00000223008FF228>,\n",
       " <Element 'frame' at 0x0000022300908188>,\n",
       " <Element 'frame' at 0x00000223009120E8>,\n",
       " <Element 'frame' at 0x000002230091B048>,\n",
       " <Element 'frame' at 0x000002230091BF48>,\n",
       " <Element 'frame' at 0x0000022300924EA8>,\n",
       " <Element 'frame' at 0x000002230092EE08>,\n",
       " <Element 'frame' at 0x0000022300936E58>,\n",
       " <Element 'frame' at 0x000002230093FDB8>,\n",
       " <Element 'frame' at 0x0000022300948D18>,\n",
       " <Element 'frame' at 0x0000022300951C78>,\n",
       " <Element 'frame' at 0x000002230095ABD8>,\n",
       " <Element 'frame' at 0x0000022300963B38>,\n",
       " <Element 'frame' at 0x000002230096CA98>,\n",
       " <Element 'frame' at 0x00000223009759F8>,\n",
       " <Element 'frame' at 0x000002230097F958>,\n",
       " <Element 'frame' at 0x00000223009888B8>,\n",
       " <Element 'frame' at 0x0000022300992818>,\n",
       " <Element 'frame' at 0x000002230099B778>,\n",
       " <Element 'frame' at 0x00000223009A48B8>,\n",
       " <Element 'frame' at 0x00000223009AC9F8>,\n",
       " <Element 'frame' at 0x00000223009B5B38>,\n",
       " <Element 'frame' at 0x00000223009BFB88>,\n",
       " <Element 'frame' at 0x00000223009C8BD8>,\n",
       " <Element 'frame' at 0x00000223009D1B88>,\n",
       " <Element 'frame' at 0x00000223009DAB38>,\n",
       " <Element 'frame' at 0x00000223009E2AE8>,\n",
       " <Element 'frame' at 0x00000223009EBA98>,\n",
       " <Element 'frame' at 0x00000223009F5A48>,\n",
       " <Element 'frame' at 0x00000223009FE9F8>,\n",
       " <Element 'frame' at 0x0000022300A079A8>,\n",
       " <Element 'frame' at 0x0000022300A10958>,\n",
       " <Element 'frame' at 0x0000022300A19908>,\n",
       " <Element 'frame' at 0x0000022300A228B8>,\n",
       " <Element 'frame' at 0x0000022300A2B868>,\n",
       " <Element 'frame' at 0x0000022300A34818>,\n",
       " <Element 'frame' at 0x0000022300A3E7C8>,\n",
       " <Element 'frame' at 0x0000022300A47778>,\n",
       " <Element 'frame' at 0x0000022300A50728>,\n",
       " <Element 'frame' at 0x0000022300A596D8>,\n",
       " <Element 'frame' at 0x0000022300A62688>,\n",
       " <Element 'frame' at 0x0000022300A6A638>,\n",
       " <Element 'frame' at 0x0000022300A735E8>,\n",
       " <Element 'frame' at 0x0000022300A7D598>,\n",
       " <Element 'frame' at 0x0000022300A86548>,\n",
       " <Element 'frame' at 0x0000022300A905E8>,\n",
       " <Element 'frame' at 0x0000022300A9A688>,\n",
       " <Element 'frame' at 0x0000022300AA2728>,\n",
       " <Element 'frame' at 0x0000022300AAC7C8>,\n",
       " <Element 'frame' at 0x0000022300AB4778>,\n",
       " <Element 'frame' at 0x0000022300ABD728>,\n",
       " <Element 'frame' at 0x0000022300AC76D8>,\n",
       " <Element 'frame' at 0x0000022300ACF688>,\n",
       " <Element 'frame' at 0x0000022300AD8638>,\n",
       " <Element 'frame' at 0x0000022300AE15E8>,\n",
       " <Element 'frame' at 0x0000022300AEA598>,\n",
       " <Element 'frame' at 0x0000022300AF3548>,\n",
       " <Element 'frame' at 0x0000022300AFC4F8>,\n",
       " <Element 'frame' at 0x0000022300B074A8>,\n",
       " <Element 'frame' at 0x0000022300B10458>,\n",
       " <Element 'frame' at 0x0000022300B19408>,\n",
       " <Element 'frame' at 0x0000022300B203B8>,\n",
       " <Element 'frame' at 0x0000022300B2A368>,\n",
       " <Element 'frame' at 0x0000022300B33318>,\n",
       " <Element 'frame' at 0x0000022300B3C2C8>,\n",
       " <Element 'frame' at 0x0000022300B46278>,\n",
       " <Element 'frame' at 0x0000022300B4F228>,\n",
       " <Element 'frame' at 0x0000022300B581D8>,\n",
       " <Element 'frame' at 0x0000022300B58F48>,\n",
       " <Element 'frame' at 0x0000022300B60D18>,\n",
       " <Element 'frame' at 0x0000022300B6AAE8>,\n",
       " <Element 'frame' at 0x0000022300B738B8>,\n",
       " <Element 'frame' at 0x0000022300B7C688>,\n",
       " <Element 'frame' at 0x0000022300B85548>,\n",
       " <Element 'frame' at 0x0000022300B8F318>,\n",
       " <Element 'frame' at 0x0000022300B980E8>,\n",
       " <Element 'frame' at 0x0000022300B98E58>,\n",
       " <Element 'frame' at 0x0000022300BA0C28>,\n",
       " <Element 'frame' at 0x0000022300BAA9F8>,\n",
       " <Element 'frame' at 0x0000022300BB47C8>,\n",
       " <Element 'frame' at 0x0000022300BBD4A8>,\n",
       " <Element 'frame' at 0x0000022300BC6188>,\n",
       " <Element 'frame' at 0x0000022300BC6E08>,\n",
       " <Element 'frame' at 0x0000022300BD0AE8>,\n",
       " <Element 'frame' at 0x0000022300BD87C8>,\n",
       " <Element 'frame' at 0x0000022300BE14A8>,\n",
       " <Element 'frame' at 0x0000022300BE1F48>,\n",
       " <Element 'frame' at 0x0000022300BEAA48>,\n",
       " <Element 'frame' at 0x0000022300BF3548>,\n",
       " <Element 'frame' at 0x0000022300BFC048>,\n",
       " <Element 'frame' at 0x0000022300BFCAE8>,\n",
       " <Element 'frame' at 0x0000022300C055E8>,\n",
       " <Element 'frame' at 0x0000022300C0E0E8>,\n",
       " <Element 'frame' at 0x0000022300C0EB88>,\n",
       " <Element 'frame' at 0x0000022300C17688>,\n",
       " <Element 'frame' at 0x0000022300C20188>,\n",
       " <Element 'frame' at 0x0000022300C20C28>,\n",
       " <Element 'frame' at 0x0000022300C29728>,\n",
       " <Element 'frame' at 0x0000022300C33228>,\n",
       " <Element 'frame' at 0x0000022300C33CC8>,\n",
       " <Element 'frame' at 0x0000022300C3D7C8>,\n",
       " <Element 'frame' at 0x0000022300C462C8>,\n",
       " <Element 'frame' at 0x0000022300C46D68>,\n",
       " <Element 'frame' at 0x0000022300C4D868>,\n",
       " <Element 'frame' at 0x0000022300C57368>,\n",
       " <Element 'frame' at 0x0000022300C57E08>,\n",
       " <Element 'frame' at 0x0000022300C60908>,\n",
       " <Element 'frame' at 0x0000022300C69408>,\n",
       " <Element 'frame' at 0x0000022300C69EA8>,\n",
       " <Element 'frame' at 0x0000022300C73A98>,\n",
       " <Element 'frame' at 0x0000022300C7E688>,\n",
       " <Element 'frame' at 0x0000022300C85278>,\n",
       " <Element 'frame' at 0x0000022300C85E08>,\n",
       " <Element 'frame' at 0x0000022300C8E9F8>,\n",
       " <Element 'frame' at 0x0000022300C985E8>,\n",
       " <Element 'frame' at 0x0000022300CA12C8>,\n",
       " <Element 'frame' at 0x0000022300CA1E58>,\n",
       " <Element 'frame' at 0x0000022300CAAA48>,\n",
       " <Element 'frame' at 0x0000022300CB2638>,\n",
       " <Element 'frame' at 0x0000022300CBC228>,\n",
       " <Element 'frame' at 0x0000022300CBCDB8>,\n",
       " <Element 'frame' at 0x0000022300CC49A8>,\n",
       " <Element 'frame' at 0x0000022300CCD598>,\n",
       " <Element 'frame' at 0x0000022300CD7188>,\n",
       " <Element 'frame' at 0x0000022300CD7D18>,\n",
       " <Element 'frame' at 0x0000022300CE1908>,\n",
       " <Element 'frame' at 0x0000022300CE94F8>,\n",
       " <Element 'frame' at 0x0000022300CF20E8>,\n",
       " <Element 'frame' at 0x0000022300CF29F8>,\n",
       " <Element 'frame' at 0x0000022300CFC368>,\n",
       " <Element 'frame' at 0x0000022300CFCC78>,\n",
       " <Element 'frame' at 0x0000022300D055E8>,\n",
       " <Element 'frame' at 0x0000022300D05EF8>,\n",
       " <Element 'frame' at 0x0000022300D0E868>,\n",
       " <Element 'frame' at 0x0000022300D171D8>,\n",
       " <Element 'frame' at 0x0000022300D17AE8>,\n",
       " <Element 'frame' at 0x0000022300D21458>,\n",
       " <Element 'frame' at 0x0000022300D21D68>,\n",
       " <Element 'frame' at 0x0000022300D2A6D8>,\n",
       " <Element 'frame' at 0x0000022300D33048>,\n",
       " <Element 'frame' at 0x0000022300D33958>,\n",
       " <Element 'frame' at 0x0000022300D3C2C8>,\n",
       " <Element 'frame' at 0x0000022300D3CBD8>,\n",
       " <Element 'frame' at 0x0000022300D455E8>,\n",
       " <Element 'frame' at 0x0000022300D45F98>,\n",
       " <Element 'frame' at 0x0000022300D4EAE8>,\n",
       " <Element 'frame' at 0x0000022300D57638>,\n",
       " <Element 'frame' at 0x0000022300D61188>,\n",
       " <Element 'frame' at 0x0000022300D61C78>,\n",
       " <Element 'frame' at 0x0000022300D6A7C8>,\n",
       " <Element 'frame' at 0x0000022300D73318>,\n",
       " <Element 'frame' at 0x0000022300D73E08>,\n",
       " <Element 'frame' at 0x0000022300D7B958>,\n",
       " <Element 'frame' at 0x0000022300D854A8>,\n",
       " <Element 'frame' at 0x0000022300D85F98>,\n",
       " <Element 'frame' at 0x0000022300D8F9F8>,\n",
       " <Element 'frame' at 0x0000022300D98458>,\n",
       " <Element 'frame' at 0x0000022300D98E58>,\n",
       " <Element 'frame' at 0x0000022300DA07C8>,\n",
       " <Element 'frame' at 0x0000022300DAA138>,\n",
       " <Element 'frame' at 0x0000022300DAAA48>,\n",
       " <Element 'frame' at 0x0000022300DB33B8>,\n",
       " <Element 'frame' at 0x0000022300DB3CC8>,\n",
       " <Element 'frame' at 0x0000022300DBC638>,\n",
       " <Element 'frame' at 0x0000022300DBCF48>,\n",
       " <Element 'frame' at 0x0000022300DC68B8>,\n",
       " <Element 'frame' at 0x0000022300DCE228>,\n",
       " <Element 'frame' at 0x0000022300DCEB38>,\n",
       " <Element 'frame' at 0x0000022300DD84A8>,\n",
       " <Element 'frame' at 0x0000022300DD8DB8>,\n",
       " <Element 'frame' at 0x0000022300DE1728>,\n",
       " <Element 'frame' at 0x0000022300DEA098>,\n",
       " <Element 'frame' at 0x0000022300DEA9A8>,\n",
       " <Element 'frame' at 0x0000022300DF3318>,\n",
       " <Element 'frame' at 0x0000022300DF3B38>,\n",
       " <Element 'frame' at 0x0000022300DFC548>,\n",
       " <Element 'frame' at 0x0000022300DFCEF8>,\n",
       " <Element 'frame' at 0x0000022300E05908>,\n",
       " <Element 'frame' at 0x0000022300E0F278>,\n",
       " <Element 'frame' at 0x0000022300E0FB88>,\n",
       " <Element 'frame' at 0x0000022300E184F8>,\n",
       " <Element 'frame' at 0x0000022300E18E08>,\n",
       " <Element 'frame' at 0x0000022300E20688>,\n",
       " <Element 'frame' at 0x0000022300E20EA8>,\n",
       " <Element 'frame' at 0x0000022300E2A728>,\n",
       " <Element 'frame' at 0x0000022300E2AF48>,\n",
       " <Element 'frame' at 0x0000022300E33688>,\n",
       " <Element 'frame' at 0x0000022300E33D68>,\n",
       " <Element 'frame' at 0x0000022300E3C4A8>,\n",
       " <Element 'frame' at 0x0000022300E3CB88>,\n",
       " <Element 'frame' at 0x0000022300E452C8>,\n",
       " <Element 'frame' at 0x0000022300E459A8>,\n",
       " <Element 'frame' at 0x0000022300E4E0E8>,\n",
       " <Element 'frame' at 0x0000022300E4E7C8>,\n",
       " <Element 'frame' at 0x0000022300E4EEA8>,\n",
       " <Element 'frame' at 0x0000022300E575E8>,\n",
       " <Element 'frame' at 0x0000022300E57CC8>,\n",
       " <Element 'frame' at 0x0000022300E60408>,\n",
       " <Element 'frame' at 0x0000022300E60AE8>,\n",
       " <Element 'frame' at 0x0000022300E6B228>,\n",
       " <Element 'frame' at 0x0000022300E6B908>,\n",
       " <Element 'frame' at 0x0000022300E73048>,\n",
       " <Element 'frame' at 0x0000022300E73728>,\n",
       " <Element 'frame' at 0x0000022300E73E08>,\n",
       " <Element 'frame' at 0x0000022300E7B548>,\n",
       " <Element 'frame' at 0x0000022300E7BC28>,\n",
       " <Element 'frame' at 0x0000022300E84368>,\n",
       " <Element 'frame' at 0x0000022300E84A48>,\n",
       " <Element 'frame' at 0x0000022300E8E188>,\n",
       " <Element 'frame' at 0x0000022300E8E868>,\n",
       " <Element 'frame' at 0x0000022300E8EF48>,\n",
       " <Element 'frame' at 0x0000022300E97908>,\n",
       " <Element 'frame' at 0x0000022300EA02C8>,\n",
       " <Element 'frame' at 0x0000022300EA0C28>,\n",
       " <Element 'frame' at 0x0000022300EA85E8>,\n",
       " <Element 'frame' at 0x0000022300EA8F48>,\n",
       " <Element 'frame' at 0x0000022300EB1908>,\n",
       " <Element 'frame' at 0x0000022300EBB458>,\n",
       " <Element 'frame' at 0x0000022300EBBF48>,\n",
       " <Element 'frame' at 0x0000022300EC3A98>,\n",
       " <Element 'frame' at 0x0000022300ECD548>,\n",
       " <Element 'frame' at 0x0000022300ECDF98>,\n",
       " <Element 'frame' at 0x0000022300ED6A48>,\n",
       " <Element 'frame' at 0x0000022300EDE4F8>,\n",
       " <Element 'frame' at 0x0000022300EDEF48>,\n",
       " <Element 'frame' at 0x0000022300EE79F8>,\n",
       " <Element 'frame' at 0x0000022300EF14A8>,\n",
       " <Element 'frame' at 0x0000022300EF1EF8>,\n",
       " <Element 'frame' at 0x0000022300EFA9A8>,\n",
       " <Element 'frame' at 0x0000022300F04638>,\n",
       " <Element 'frame' at 0x0000022300F0C1D8>,\n",
       " <Element 'frame' at 0x0000022300F0CD18>,\n",
       " <Element 'frame' at 0x0000022300F15818>,\n",
       " <Element 'frame' at 0x0000022300F1E318>,\n",
       " <Element 'frame' at 0x0000022300F1EDB8>,\n",
       " <Element 'frame' at 0x0000022300F278B8>,\n",
       " <Element 'frame' at 0x0000022300F313B8>,\n",
       " <Element 'frame' at 0x0000022300F31E58>,\n",
       " <Element 'frame' at 0x0000022300F3A958>,\n",
       " <Element 'frame' at 0x0000022300F42458>,\n",
       " <Element 'frame' at 0x0000022300F42E08>,\n",
       " <Element 'frame' at 0x0000022300F4C908>,\n",
       " <Element 'frame' at 0x0000022300F56408>,\n",
       " <Element 'frame' at 0x0000022300F56EA8>,\n",
       " <Element 'frame' at 0x0000022300F5F9A8>,\n",
       " <Element 'frame' at 0x0000022300F684A8>,\n",
       " <Element 'frame' at 0x0000022300F68F48>,\n",
       " <Element 'frame' at 0x0000022300F70A48>,\n",
       " <Element 'frame' at 0x0000022300F7A548>,\n",
       " <Element 'frame' at 0x0000022300F82048>,\n",
       " <Element 'frame' at 0x0000022300F82AE8>,\n",
       " <Element 'frame' at 0x0000022300F8B5E8>,\n",
       " <Element 'frame' at 0x0000022300F960E8>,\n",
       " <Element 'frame' at 0x0000022300F96B88>,\n",
       " <Element 'frame' at 0x0000022300F9F688>,\n",
       " <Element 'frame' at 0x0000022300FA8188>,\n",
       " <Element 'frame' at 0x0000022300FA8C28>,\n",
       " <Element 'frame' at 0x0000022300FB0728>,\n",
       " <Element 'frame' at 0x0000022300FB9228>,\n",
       " <Element 'frame' at 0x0000022300FB9CC8>,\n",
       " <Element 'frame' at 0x0000022300FC27C8>,\n",
       " <Element 'frame' at 0x0000022300FCB2C8>,\n",
       " <Element 'frame' at 0x0000022300FCBD68>,\n",
       " <Element 'frame' at 0x0000022300FD5868>,\n",
       " <Element 'frame' at 0x0000022300FDE368>,\n",
       " <Element 'frame' at 0x0000022300FDEE08>,\n",
       " <Element 'frame' at 0x0000022300FE9818>,\n",
       " <Element 'frame' at 0x0000022300FF1228>,\n",
       " <Element 'frame' at 0x0000022300FF1BD8>,\n",
       " <Element 'frame' at 0x0000022300FFB5E8>,\n",
       " <Element 'frame' at 0x0000022300FFBF98>,\n",
       " <Element 'frame' at 0x0000022301003B88>,\n",
       " <Element 'frame' at 0x000002230100C778>,\n",
       " <Element 'frame' at 0x0000022301015368>,\n",
       " <Element 'frame' at 0x0000022301015EF8>,\n",
       " <Element 'frame' at 0x000002230101EAE8>,\n",
       " <Element 'frame' at 0x00000223010266D8>,\n",
       " <Element 'frame' at 0x000002230102F2C8>,\n",
       " <Element 'frame' at 0x000002230102FE58>,\n",
       " <Element 'frame' at 0x000002230103AA48>,\n",
       " <Element 'frame' at 0x0000022301043638>,\n",
       " <Element 'frame' at 0x000002230104C228>,\n",
       " <Element 'frame' at 0x000002230104CDB8>,\n",
       " <Element 'frame' at 0x0000022301055C28>,\n",
       " <Element 'frame' at 0x000002230105FA98>,\n",
       " <Element 'frame' at 0x0000022301066908>,\n",
       " <Element 'frame' at 0x000002230106F778>,\n",
       " <Element 'frame' at 0x00000223010795E8>,\n",
       " <Element 'frame' at 0x0000022301083458>,\n",
       " <Element 'frame' at 0x000002230108C2C8>,\n",
       " <Element 'frame' at 0x0000022301095138>,\n",
       " <Element 'frame' at 0x0000022301095F48>,\n",
       " <Element 'frame' at 0x000002230109EDB8>,\n",
       " <Element 'frame' at 0x00000223010A7C28>,\n",
       " <Element 'frame' at 0x00000223010B1A98>,\n",
       " <Element 'frame' at 0x00000223010BA908>,\n",
       " <Element 'frame' at 0x00000223010C4688>,\n",
       " <Element 'frame' at 0x00000223010CD4A8>,\n",
       " <Element 'frame' at 0x00000223010D4228>,\n",
       " <Element 'frame' at 0x00000223010D4F48>,\n",
       " <Element 'frame' at 0x00000223010DDCC8>,\n",
       " <Element 'frame' at 0x00000223010E7B38>,\n",
       " <Element 'frame' at 0x00000223010F09A8>,\n",
       " <Element 'frame' at 0x00000223010F9818>,\n",
       " <Element 'frame' at 0x0000022301101688>,\n",
       " <Element 'frame' at 0x000002230110B4F8>,\n",
       " <Element 'frame' at 0x0000022301114368>,\n",
       " <Element 'frame' at 0x000002230111D1D8>,\n",
       " <Element 'frame' at 0x0000022301128048>,\n",
       " <Element 'frame' at 0x0000022301128E58>,\n",
       " <Element 'frame' at 0x0000022301131D68>,\n",
       " <Element 'frame' at 0x0000022301139C78>,\n",
       " <Element 'frame' at 0x0000022301142B88>,\n",
       " <Element 'frame' at 0x000002230114BDB8>,\n",
       " <Element 'frame' at 0x0000022301154F48>,\n",
       " <Element 'frame' at 0x00000223011661D8>,\n",
       " <Element 'frame' at 0x000002230116F408>,\n",
       " <Element 'frame' at 0x0000022301178638>,\n",
       " <Element 'frame' at 0x0000022301182728>,\n",
       " <Element 'frame' at 0x000002230118B818>,\n",
       " <Element 'frame' at 0x0000022301194908>,\n",
       " <Element 'frame' at 0x000002230119C9F8>,\n",
       " <Element 'frame' at 0x00000223011A6AE8>,\n",
       " <Element 'frame' at 0x00000223011B1BD8>,\n",
       " <Element 'frame' at 0x00000223011B9CC8>,\n",
       " <Element 'frame' at 0x00000223011C2F48>,\n",
       " <Element 'frame' at 0x00000223011D4138>,\n",
       " <Element 'frame' at 0x00000223011DD2C8>,\n",
       " <Element 'frame' at 0x00000223011E6458>,\n",
       " <Element 'frame' at 0x00000223011F15E8>,\n",
       " <Element 'frame' at 0x00000223011FA778>,\n",
       " <Element 'frame' at 0x0000022301201868>,\n",
       " <Element 'frame' at 0x000002230120A908>,\n",
       " <Element 'frame' at 0x00000223012159A8>,\n",
       " <Element 'frame' at 0x000002230121EA48>,\n",
       " <Element 'frame' at 0x0000022301226AE8>,\n",
       " <Element 'frame' at 0x0000022301230B88>,\n",
       " <Element 'frame' at 0x0000022301239DB8>,\n",
       " <Element 'frame' at 0x0000022301241CC8>,\n",
       " <Element 'frame' at 0x0000022301249BD8>,\n",
       " <Element 'frame' at 0x0000022301254AE8>,\n",
       " <Element 'frame' at 0x000002230125D9F8>,\n",
       " <Element 'frame' at 0x0000022301265908>,\n",
       " <Element 'frame' at 0x000002230126D818>,\n",
       " <Element 'frame' at 0x0000022301278728>,\n",
       " <Element 'frame' at 0x0000022301281638>,\n",
       " <Element 'frame' at 0x000002230128A548>,\n",
       " <Element 'frame' at 0x0000022301292458>,\n",
       " <Element 'frame' at 0x000002230129C368>,\n",
       " <Element 'frame' at 0x00000223012A5278>,\n",
       " <Element 'frame' at 0x00000223012AE188>,\n",
       " <Element 'frame' at 0x00000223012B8098>,\n",
       " <Element 'frame' at 0x00000223012B8F48>,\n",
       " <Element 'frame' at 0x00000223012C0E58>,\n",
       " <Element 'frame' at 0x00000223012CAD68>,\n",
       " <Element 'frame' at 0x00000223012D3D68>,\n",
       " <Element 'frame' at 0x00000223012DDD68>,\n",
       " <Element 'frame' at 0x00000223012E6D68>,\n",
       " <Element 'frame' at 0x00000223012EFD68>,\n",
       " <Element 'frame' at 0x00000223012F8D68>,\n",
       " <Element 'frame' at 0x0000022301301D68>,\n",
       " <Element 'frame' at 0x000002230130BD68>,\n",
       " <Element 'frame' at 0x0000022301313C78>,\n",
       " <Element 'frame' at 0x000002230131DB88>,\n",
       " <Element 'frame' at 0x0000022301326A98>,\n",
       " <Element 'frame' at 0x000002230132D9A8>,\n",
       " <Element 'frame' at 0x00000223013368B8>,\n",
       " <Element 'frame' at 0x00000223013407C8>,\n",
       " <Element 'frame' at 0x00000223013496D8>,\n",
       " <Element 'frame' at 0x00000223013525E8>,\n",
       " <Element 'frame' at 0x000002230135C4F8>,\n",
       " <Element 'frame' at 0x0000022301364408>,\n",
       " <Element 'frame' at 0x000002230136D318>,\n",
       " <Element 'frame' at 0x0000022301377318>,\n",
       " <Element 'frame' at 0x0000022301382318>,\n",
       " <Element 'frame' at 0x000002230138B318>,\n",
       " <Element 'frame' at 0x0000022301392318>,\n",
       " <Element 'frame' at 0x000002230139B318>,\n",
       " <Element 'frame' at 0x00000223013A5318>,\n",
       " <Element 'frame' at 0x00000223013AE318>,\n",
       " <Element 'frame' at 0x00000223013B6318>,\n",
       " <Element 'frame' at 0x00000223013BF318>,\n",
       " <Element 'frame' at 0x00000223013C9318>,\n",
       " <Element 'frame' at 0x00000223013D2318>,\n",
       " <Element 'frame' at 0x00000223013DC318>,\n",
       " <Element 'frame' at 0x00000223013E5318>,\n",
       " <Element 'frame' at 0x00000223013EE318>,\n",
       " <Element 'frame' at 0x00000223013F7318>,\n",
       " <Element 'frame' at 0x0000022301400318>,\n",
       " <Element 'frame' at 0x000002230140A318>,\n",
       " <Element 'frame' at 0x0000022301411318>,\n",
       " <Element 'frame' at 0x000002230141B4A8>,\n",
       " <Element 'frame' at 0x0000022301424638>,\n",
       " <Element 'frame' at 0x000002230142D7C8>,\n",
       " <Element 'frame' at 0x00000223014369F8>,\n",
       " <Element 'frame' at 0x000002230143FC28>,\n",
       " <Element 'frame' at 0x0000022301449E58>,\n",
       " <Element 'frame' at 0x000002230145A0E8>,\n",
       " <Element 'frame' at 0x0000022301464138>,\n",
       " <Element 'frame' at 0x000002230146E188>,\n",
       " <Element 'frame' at 0x0000022301477228>,\n",
       " <Element 'frame' at 0x00000223014802C8>,\n",
       " <Element 'frame' at 0x0000022301489368>,\n",
       " <Element 'frame' at 0x0000022301492408>,\n",
       " <Element 'frame' at 0x000002230149B4A8>,\n",
       " <Element 'frame' at 0x00000223014A4548>,\n",
       " <Element 'frame' at 0x00000223014AD5E8>,\n",
       " <Element 'frame' at 0x00000223014B5688>,\n",
       " <Element 'frame' at 0x00000223014BF728>,\n",
       " <Element 'frame' at 0x00000223014C78B8>,\n",
       " <Element 'frame' at 0x00000223014D1A48>,\n",
       " <Element 'frame' at 0x00000223014DABD8>,\n",
       " <Element 'frame' at 0x00000223014E2D68>,\n",
       " <Element 'frame' at 0x00000223014EDEF8>,\n",
       " <Element 'frame' at 0x00000223014FF0E8>,\n",
       " <Element 'frame' at 0x0000022301508278>,\n",
       " <Element 'frame' at 0x0000022301511408>,\n",
       " <Element 'frame' at 0x000002230151B598>,\n",
       " <Element 'frame' at 0x0000022301524728>,\n",
       " <Element 'frame' at 0x000002230152B8B8>,\n",
       " <Element 'frame' at 0x0000022301536A48>,\n",
       " <Element 'frame' at 0x000002230153FBD8>,\n",
       " <Element 'frame' at 0x0000022301548C78>,\n",
       " <Element 'frame' at 0x0000022301552D18>,\n",
       " <Element 'frame' at 0x000002230155AD18>,\n",
       " <Element 'frame' at 0x0000022301563D18>,\n",
       " <Element 'frame' at 0x000002230156DD18>,\n",
       " <Element 'frame' at 0x0000022301576EA8>,\n",
       " <Element 'frame' at 0x0000022301588098>,\n",
       " <Element 'frame' at 0x0000022301590228>,\n",
       " <Element 'frame' at 0x000002230159B3B8>,\n",
       " <Element 'frame' at 0x00000223015A3548>,\n",
       " <Element 'frame' at 0x00000223015AC6D8>,\n",
       " <Element 'frame' at 0x00000223015B5958>,\n",
       " <Element 'frame' at 0x00000223015BDBD8>,\n",
       " <Element 'frame' at 0x00000223015C7E58>,\n",
       " <Element 'frame' at 0x00000223015DA138>,\n",
       " <Element 'frame' at 0x00000223015E23B8>,\n",
       " <Element 'frame' at 0x00000223015EB638>,\n",
       " <Element 'frame' at 0x00000223015F58B8>,\n",
       " <Element 'frame' at 0x00000223015FFB38>,\n",
       " <Element 'frame' at 0x0000022301609DB8>,\n",
       " <Element 'frame' at 0x000002230161A098>,\n",
       " <Element 'frame' at 0x0000022301624318>,\n",
       " <Element 'frame' at 0x000002230162C598>,\n",
       " <Element 'frame' at 0x0000022301635818>,\n",
       " <Element 'frame' at 0x000002230163D9A8>,\n",
       " <Element 'frame' at 0x0000022301647B38>,\n",
       " <Element 'frame' at 0x0000022301650CC8>,\n",
       " <Element 'frame' at 0x000002230165AE58>,\n",
       " <Element 'frame' at 0x000002230166C048>,\n",
       " <Element 'frame' at 0x00000223016751D8>,\n",
       " <Element 'frame' at 0x000002230167F278>,\n",
       " <Element 'frame' at 0x0000022301687318>,\n",
       " <Element 'frame' at 0x00000223016903B8>,\n",
       " <Element 'frame' at 0x000002230169A458>,\n",
       " <Element 'frame' at 0x00000223016A34F8>,\n",
       " <Element 'frame' at 0x00000223016AB728>,\n",
       " <Element 'frame' at 0x00000223016B4638>,\n",
       " <Element 'frame' at 0x00000223016BD548>,\n",
       " <Element 'frame' at 0x00000223016C7458>,\n",
       " <Element 'frame' at 0x00000223016CE368>,\n",
       " <Element 'frame' at 0x00000223016D9278>,\n",
       " <Element 'frame' at 0x00000223016E32C8>,\n",
       " <Element 'frame' at 0x00000223016EC408>,\n",
       " <Element 'frame' at 0x00000223016F5548>,\n",
       " <Element 'frame' at 0x00000223016FD688>,\n",
       " <Element 'frame' at 0x00000223017087C8>,\n",
       " <Element 'frame' at 0x0000022301710908>,\n",
       " <Element 'frame' at 0x0000022301718A48>,\n",
       " <Element 'frame' at 0x0000022301722B88>,\n",
       " <Element 'frame' at 0x000002230172BCC8>,\n",
       " <Element 'frame' at 0x0000022301734E08>,\n",
       " <Element 'frame' at 0x000002230173EF48>,\n",
       " <Element 'frame' at 0x0000022301751098>,\n",
       " <Element 'frame' at 0x000002230175A188>,\n",
       " <Element 'frame' at 0x0000022301762278>,\n",
       " <Element 'frame' at 0x000002230176D368>,\n",
       " <Element 'frame' at 0x0000022301776458>,\n",
       " <Element 'frame' at 0x000002230177F548>,\n",
       " <Element 'frame' at 0x0000022301787638>,\n",
       " <Element 'frame' at 0x00000223017906D8>,\n",
       " <Element 'frame' at 0x0000022301799688>,\n",
       " <Element 'frame' at 0x00000223017A2638>,\n",
       " <Element 'frame' at 0x00000223017AC5E8>,\n",
       " <Element 'frame' at 0x00000223017B6598>,\n",
       " <Element 'frame' at 0x00000223017BD6D8>,\n",
       " <Element 'frame' at 0x00000223017C64F8>,\n",
       " <Element 'frame' at 0x00000223017CB5E8>,\n",
       " <Element 'frame' at 0x00000223017D16D8>,\n",
       " <Element 'frame' at 0x00000223017D97C8>,\n",
       " <Element 'frame' at 0x00000223017E28B8>,\n",
       " <Element 'frame' at 0x00000223017EB9A8>,\n",
       " <Element 'frame' at 0x00000223017F4A98>,\n",
       " <Element 'frame' at 0x00000223017FDB88>,\n",
       " <Element 'frame' at 0x0000022301807C78>,\n",
       " <Element 'frame' at 0x000002230180FD68>,\n",
       " <Element 'frame' at 0x0000022301818E58>,\n",
       " <Element 'frame' at 0x0000022301820F48>,\n",
       " <Element 'frame' at 0x0000022301833098>,\n",
       " <Element 'frame' at 0x0000022301833F48>,\n",
       " <Element 'frame' at 0x000002230183DE58>,\n",
       " <Element 'frame' at 0x0000022301845D68>,\n",
       " <Element 'frame' at 0x000002230184EC78>,\n",
       " <Element 'frame' at 0x0000022301857B88>,\n",
       " <Element 'frame' at 0x0000022301861A98>,\n",
       " <Element 'frame' at 0x000002230186A728>,\n",
       " <Element 'frame' at 0x00000223018733B8>,\n",
       " <Element 'frame' at 0x000002230187C048>,\n",
       " <Element 'frame' at 0x000002230187CD18>,\n",
       " <Element 'frame' at 0x0000022301886A48>,\n",
       " <Element 'frame' at 0x0000022301891778>,\n",
       " <Element 'frame' at 0x00000223018994A8>,\n",
       " <Element 'frame' at 0x00000223018A11D8>,\n",
       " <Element 'frame' at 0x00000223018A1EA8>,\n",
       " <Element 'frame' at 0x00000223018ABBD8>,\n",
       " <Element 'frame' at 0x00000223018B3908>,\n",
       " <Element 'frame' at 0x00000223018BC638>,\n",
       " <Element 'frame' at 0x00000223018C5278>,\n",
       " <Element 'frame' at 0x00000223018C5E58>,\n",
       " <Element 'frame' at 0x00000223018D0A98>,\n",
       " <Element 'frame' at 0x00000223018D7638>,\n",
       " <Element 'frame' at 0x00000223018E01D8>,\n",
       " <Element 'frame' at 0x00000223018E0D18>,\n",
       " <Element 'frame' at 0x00000223018E98B8>,\n",
       " <Element 'frame' at 0x00000223018F4458>,\n",
       " <Element 'frame' at 0x00000223018F4F98>,\n",
       " <Element 'frame' at 0x00000223018FCB38>,\n",
       " <Element 'frame' at 0x00000223019056D8>,\n",
       " <Element 'frame' at 0x000002230190D278>,\n",
       " <Element 'frame' at 0x000002230190DDB8>,\n",
       " <Element 'frame' at 0x0000022301916958>,\n",
       " <Element 'frame' at 0x00000223019204F8>,\n",
       " <Element 'frame' at 0x0000022301928098>,\n",
       " <Element 'frame' at 0x0000022301928BD8>,\n",
       " <Element 'frame' at 0x0000022301932908>,\n",
       " <Element 'frame' at 0x000002230193A548>,\n",
       " <Element 'frame' at 0x0000022301944188>,\n",
       " <Element 'frame' at 0x0000022301944D68>,\n",
       " <Element 'frame' at 0x000002230194C9A8>,\n",
       " <Element 'frame' at 0x00000223019565E8>,\n",
       " <Element 'frame' at 0x0000022301961228>,\n",
       " <Element 'frame' at 0x0000022301961E08>,\n",
       " <Element 'frame' at 0x0000022301968A48>,\n",
       " <Element 'frame' at 0x0000022301972688>,\n",
       " <Element 'frame' at 0x000002230197C2C8>,\n",
       " <Element 'frame' at 0x000002230197CEA8>,\n",
       " <Element 'frame' at 0x0000022301984C78>,\n",
       " <Element 'frame' at 0x000002230198C958>,\n",
       " <Element 'frame' at 0x0000022301996638>,\n",
       " <Element 'frame' at 0x000002230199F318>,\n",
       " <Element 'frame' at 0x000002230199FF98>,\n",
       " <Element 'frame' at 0x00000223019A8C78>,\n",
       " <Element 'frame' at 0x00000223019B3A48>,\n",
       " <Element 'frame' at 0x00000223019BA818>,\n",
       " <Element 'frame' at 0x00000223019C45E8>,\n",
       " <Element 'frame' at 0x00000223019CD3B8>,\n",
       " <Element 'frame' at 0x00000223019D6188>,\n",
       " <Element 'frame' at 0x00000223019D6EF8>,\n",
       " <Element 'frame' at 0x00000223019E0CC8>,\n",
       " <Element 'frame' at 0x00000223019E8A98>,\n",
       " <Element 'frame' at 0x00000223019F0868>,\n",
       " <Element 'frame' at 0x00000223019FB638>,\n",
       " <Element 'frame' at 0x0000022301A03408>,\n",
       " <Element 'frame' at 0x0000022301A0C1D8>,\n",
       " <Element 'frame' at 0x0000022301A15048>,\n",
       " <Element 'frame' at 0x0000022301A15E58>,\n",
       " <Element 'frame' at 0x0000022301A1DCC8>,\n",
       " <Element 'frame' at 0x0000022301A27B38>,\n",
       " <Element 'frame' at 0x0000022301A2F9A8>,\n",
       " <Element 'frame' at 0x0000022301A38818>,\n",
       " <Element 'frame' at 0x0000022301A42688>,\n",
       " <Element 'frame' at 0x0000022301A4B408>,\n",
       " <Element 'frame' at 0x0000022301A55188>,\n",
       " <Element 'frame' at 0x0000022301A55EA8>,\n",
       " <Element 'frame' at 0x0000022301A5EC28>,\n",
       " <Element 'frame' at 0x0000022301A679A8>,\n",
       " <Element 'frame' at 0x0000022301A6F728>,\n",
       " <Element 'frame' at 0x0000022301A7A4A8>,\n",
       " <Element 'frame' at 0x0000022301A82228>]"
      ]
     },
     "execution_count": 4,
     "metadata": {},
     "output_type": "execute_result"
    }
   ],
   "source": [
    "frames = tree.findall('frame')\n",
    "frames"
   ]
  },
  {
   "cell_type": "code",
   "execution_count": 45,
   "metadata": {},
   "outputs": [
    {
     "data": {
      "text/plain": [
       "'00664664'"
      ]
     },
     "execution_count": 45,
     "metadata": {},
     "output_type": "execute_result"
    }
   ],
   "source": [
    "roi_recs = []\n",
    "for ix, frame in enumerate(frames):\n",
    "    density = frame.attrib['density'] # string '7'\n",
    "    frame_num = frame.attrib['num'] # string '1'\n",
    "    img_num = ''\n",
    "    if len(frame_num) < 5:\n",
    "                for iter_img_num in range(5-len(frame_num)):\n",
    "                    img_num = '0'+img_num\n",
    "                    img_num = img_num + frame_num\n",
    "img_num"
   ]
  },
  {
   "cell_type": "code",
   "execution_count": 46,
   "metadata": {},
   "outputs": [],
   "source": [
    "roi_rec = dict()"
   ]
  },
  {
   "cell_type": "code",
   "execution_count": 47,
   "metadata": {},
   "outputs": [],
   "source": [
    " im_size = cv2.imread('img00001.jpg').shape"
   ]
  },
  {
   "cell_type": "code",
   "execution_count": 48,
   "metadata": {},
   "outputs": [
    {
     "data": {
      "text/plain": [
       "(540, 960, 3)"
      ]
     },
     "execution_count": 48,
     "metadata": {},
     "output_type": "execute_result"
    }
   ],
   "source": [
    "im_size"
   ]
  },
  {
   "cell_type": "code",
   "execution_count": 49,
   "metadata": {},
   "outputs": [],
   "source": [
    "roi_rec_height = float(im_size[0])\n",
    "roi_rec_width = float(im_size[1])"
   ]
  },
  {
   "cell_type": "code",
   "execution_count": null,
   "metadata": {},
   "outputs": [],
   "source": []
  },
  {
   "cell_type": "code",
   "execution_count": 50,
   "metadata": {},
   "outputs": [
    {
     "data": {
      "text/plain": [
       "[<Element 'target_list' at 0x0000022301A82278>]"
      ]
     },
     "execution_count": 50,
     "metadata": {},
     "output_type": "execute_result"
    }
   ],
   "source": [
    "target_list = frame.findall('target_list')\n",
    "target_list"
   ]
  },
  {
   "cell_type": "code",
   "execution_count": 51,
   "metadata": {},
   "outputs": [
    {
     "data": {
      "text/plain": [
       "10"
      ]
     },
     "execution_count": 51,
     "metadata": {},
     "output_type": "execute_result"
    }
   ],
   "source": [
    "if len(target_list)>0:\n",
    "    tl = target_list[0]\n",
    "    targets = tl.findall('target')\n",
    "    \n",
    "targets\n",
    "num_targets = len(targets)\n",
    "num_targets"
   ]
  },
  {
   "cell_type": "code",
   "execution_count": 52,
   "metadata": {},
   "outputs": [
    {
     "data": {
      "text/plain": [
       "array([[0, 0, 0, 0],\n",
       "       [0, 0, 0, 0],\n",
       "       [0, 0, 0, 0],\n",
       "       [0, 0, 0, 0],\n",
       "       [0, 0, 0, 0],\n",
       "       [0, 0, 0, 0],\n",
       "       [0, 0, 0, 0],\n",
       "       [0, 0, 0, 0],\n",
       "       [0, 0, 0, 0],\n",
       "       [0, 0, 0, 0]], dtype=uint16)"
      ]
     },
     "execution_count": 52,
     "metadata": {},
     "output_type": "execute_result"
    }
   ],
   "source": [
    "boxes = np.zeros((num_targets, 4), dtype=np.uint16)\n",
    "boxes"
   ]
  },
  {
   "cell_type": "code",
   "execution_count": 53,
   "metadata": {},
   "outputs": [
    {
     "data": {
      "text/plain": [
       "array([0, 0, 0, 0, 0, 0, 0, 0, 0, 0])"
      ]
     },
     "execution_count": 53,
     "metadata": {},
     "output_type": "execute_result"
    }
   ],
   "source": [
    "gt_classes = np.zeros((num_targets), dtype=np.int32)\n",
    "gt_classes"
   ]
  },
  {
   "cell_type": "code",
   "execution_count": 54,
   "metadata": {},
   "outputs": [],
   "source": [
    "classes = ['__background__',  # always index 0\n",
    "                        'vehicle']"
   ]
  },
  {
   "cell_type": "code",
   "execution_count": 55,
   "metadata": {},
   "outputs": [
    {
     "data": {
      "text/plain": [
       "2"
      ]
     },
     "execution_count": 55,
     "metadata": {},
     "output_type": "execute_result"
    }
   ],
   "source": [
    "num_classes=len(classes)\n",
    "num_classes"
   ]
  },
  {
   "cell_type": "code",
   "execution_count": 56,
   "metadata": {},
   "outputs": [
    {
     "data": {
      "text/plain": [
       "array([[0., 0.],\n",
       "       [0., 0.],\n",
       "       [0., 0.],\n",
       "       [0., 0.],\n",
       "       [0., 0.],\n",
       "       [0., 0.],\n",
       "       [0., 0.],\n",
       "       [0., 0.],\n",
       "       [0., 0.],\n",
       "       [0., 0.]], dtype=float32)"
      ]
     },
     "execution_count": 56,
     "metadata": {},
     "output_type": "execute_result"
    }
   ],
   "source": [
    "overlaps = np.zeros((num_targets, num_classes), dtype=np.float32)\n",
    "overlaps"
   ]
  },
  {
   "cell_type": "code",
   "execution_count": 57,
   "metadata": {},
   "outputs": [
    {
     "data": {
      "text/plain": [
       "{'__background__': 0, 'vehicle': 1}"
      ]
     },
     "execution_count": 57,
     "metadata": {},
     "output_type": "execute_result"
    }
   ],
   "source": [
    "class_to_index = dict(zip(classes, range(num_classes)))\n",
    "class_to_index"
   ]
  },
  {
   "cell_type": "code",
   "execution_count": 59,
   "metadata": {},
   "outputs": [
    {
     "data": {
      "text/plain": [
       "[{'boxes': array([[456,  45, 481,  75],\n",
       "         [497, 242, 608, 353],\n",
       "         [461,  36, 538, 126],\n",
       "         [536,  56, 568,  82],\n",
       "         [624,  22, 651,  42],\n",
       "         [665,  22, 692,  48],\n",
       "         [590,  48, 626,  82],\n",
       "         [574,  24, 607,  54],\n",
       "         [533,  37, 567,  66],\n",
       "         [826,  78, 894, 131]], dtype=uint16),\n",
       "  'gt_classes': array([1, 1, 1, 1, 1, 1, 1, 1, 1, 1]),\n",
       "  'gt_overlaps': array([[0., 1.],\n",
       "         [0., 1.],\n",
       "         [0., 1.],\n",
       "         [0., 1.],\n",
       "         [0., 1.],\n",
       "         [0., 1.],\n",
       "         [0., 1.],\n",
       "         [0., 1.],\n",
       "         [0., 1.],\n",
       "         [0., 1.]], dtype=float32),\n",
       "  'max_classes': array([1, 1, 1, 1, 1, 1, 1, 1, 1, 1], dtype=int64),\n",
       "  'max_overlaps': array([1., 1., 1., 1., 1., 1., 1., 1., 1., 1.], dtype=float32),\n",
       "  'flipped': False},\n",
       " {'boxes': array([[456,  45, 481,  75],\n",
       "         [497, 242, 608, 353],\n",
       "         [461,  36, 538, 126],\n",
       "         [536,  56, 568,  82],\n",
       "         [624,  22, 651,  42],\n",
       "         [665,  22, 692,  48],\n",
       "         [590,  48, 626,  82],\n",
       "         [574,  24, 607,  54],\n",
       "         [533,  37, 567,  66],\n",
       "         [826,  78, 894, 131]], dtype=uint16),\n",
       "  'gt_classes': array([1, 1, 1, 1, 1, 1, 1, 1, 1, 1]),\n",
       "  'gt_overlaps': array([[0., 1.],\n",
       "         [0., 1.],\n",
       "         [0., 1.],\n",
       "         [0., 1.],\n",
       "         [0., 1.],\n",
       "         [0., 1.],\n",
       "         [0., 1.],\n",
       "         [0., 1.],\n",
       "         [0., 1.],\n",
       "         [0., 1.]], dtype=float32),\n",
       "  'max_classes': array([1, 1, 1, 1, 1, 1, 1, 1, 1, 1], dtype=int64),\n",
       "  'max_overlaps': array([1., 1., 1., 1., 1., 1., 1., 1., 1., 1.], dtype=float32),\n",
       "  'flipped': False}]"
      ]
     },
     "execution_count": 59,
     "metadata": {},
     "output_type": "execute_result"
    }
   ],
   "source": [
    "for ix, target in enumerate(targets):\n",
    "\t\t    bbox = target.find('box').attrib\n",
    "\t\t    # Make pixel indexes 0-based\n",
    "\t\t    x1 = float(bbox['left'])-1\n",
    "\t\t    y1 = float(bbox['top'])-1\n",
    "\t\t    x2 = x1 + float(bbox['width'])\n",
    "\t\t    y2 = y1 + float(bbox['height'])\n",
    "\n",
    "\t\t    #x1 = float(bbox.find('xmin').text) - 1\n",
    "\t\t    #y1 = float(bbox.find('ymin').text) - 1\n",
    "\t\t    #x2 = float(bbox.find('xmax').text) - 1\n",
    "\t\t    #y2 = float(bbox.find('ymax').text) - 1\n",
    "\t\t    #cls = class_to_index[obj.find('name').text.lower().strip()]\n",
    "\t\t    cls = class_to_index['vehicle']\n",
    "\t\t    boxes[ix, :] = [x1, y1, x2, y2]\n",
    "\t\t    gt_classes[ix] = cls\n",
    "\t\t    overlaps[ix, cls] = 1.0\n",
    "\n",
    "\t\t    roi_rec.update({'boxes': boxes,\n",
    "\t\t                'gt_classes': gt_classes,\n",
    "\t\t                'gt_overlaps': overlaps,\n",
    "\t\t                'max_classes': overlaps.argmax(axis=1),\n",
    "\t\t                'max_overlaps': overlaps.max(axis=1),\n",
    "\t\t                'flipped': False})\n",
    "roi_recs.append(roi_rec)\n",
    "roi_recs"
   ]
  },
  {
   "cell_type": "code",
   "execution_count": null,
   "metadata": {},
   "outputs": [],
   "source": []
  }
 ],
 "metadata": {
  "kernelspec": {
   "display_name": "Python 3",
   "language": "python",
   "name": "python3"
  },
  "language_info": {
   "codemirror_mode": {
    "name": "ipython",
    "version": 3
   },
   "file_extension": ".py",
   "mimetype": "text/x-python",
   "name": "python",
   "nbconvert_exporter": "python",
   "pygments_lexer": "ipython3",
   "version": "3.6.5"
  }
 },
 "nbformat": 4,
 "nbformat_minor": 2
}
