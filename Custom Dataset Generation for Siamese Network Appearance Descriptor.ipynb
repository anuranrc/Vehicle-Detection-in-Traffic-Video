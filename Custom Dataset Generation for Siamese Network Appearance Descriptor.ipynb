{
 "cells": [
  {
   "cell_type": "markdown",
   "metadata": {},
   "source": [
    "## Import Statements ##"
   ]
  },
  {
   "cell_type": "code",
   "execution_count": 4,
   "metadata": {},
   "outputs": [],
   "source": [
    "## Libraries requied for dataset generation ##\n",
    "\n",
    "import cv2\n",
    "import os\n",
    "import numpy as np\n",
    "import PIL\n",
    "import glob\n",
    "import matplotlib.pyplot as plt\n",
    "import xml.etree.ElementTree as ET\n",
    "import torch\n",
    "from torch.utils.data import Dataset, DataLoader"
   ]
  },
  {
   "cell_type": "markdown",
   "metadata": {},
   "source": [
    "## Getting raw training data ##"
   ]
  },
  {
   "cell_type": "code",
   "execution_count": 7,
   "metadata": {
    "scrolled": true
   },
   "outputs": [
    {
     "data": {
      "text/plain": [
       "['./Insight-MVT_Annotation_Train/MVI_20011',\n",
       " './Insight-MVT_Annotation_Train/MVI_20012',\n",
       " './Insight-MVT_Annotation_Train/MVI_20032',\n",
       " './Insight-MVT_Annotation_Train/MVI_20033',\n",
       " './Insight-MVT_Annotation_Train/MVI_20034',\n",
       " './Insight-MVT_Annotation_Train/MVI_20035',\n",
       " './Insight-MVT_Annotation_Train/MVI_20051',\n",
       " './Insight-MVT_Annotation_Train/MVI_20052',\n",
       " './Insight-MVT_Annotation_Train/MVI_20061',\n",
       " './Insight-MVT_Annotation_Train/MVI_20062',\n",
       " './Insight-MVT_Annotation_Train/MVI_20063',\n",
       " './Insight-MVT_Annotation_Train/MVI_20064',\n",
       " './Insight-MVT_Annotation_Train/MVI_20065',\n",
       " './Insight-MVT_Annotation_Train/MVI_39761',\n",
       " './Insight-MVT_Annotation_Train/MVI_39771',\n",
       " './Insight-MVT_Annotation_Train/MVI_39781',\n",
       " './Insight-MVT_Annotation_Train/MVI_39801',\n",
       " './Insight-MVT_Annotation_Train/MVI_39811',\n",
       " './Insight-MVT_Annotation_Train/MVI_39821',\n",
       " './Insight-MVT_Annotation_Train/MVI_39851',\n",
       " './Insight-MVT_Annotation_Train/MVI_39861',\n",
       " './Insight-MVT_Annotation_Train/MVI_39931',\n",
       " './Insight-MVT_Annotation_Train/MVI_40131',\n",
       " './Insight-MVT_Annotation_Train/MVI_40141',\n",
       " './Insight-MVT_Annotation_Train/MVI_40152',\n",
       " './Insight-MVT_Annotation_Train/MVI_40161',\n",
       " './Insight-MVT_Annotation_Train/MVI_40162',\n",
       " './Insight-MVT_Annotation_Train/MVI_40171',\n",
       " './Insight-MVT_Annotation_Train/MVI_40172',\n",
       " './Insight-MVT_Annotation_Train/MVI_40181',\n",
       " './Insight-MVT_Annotation_Train/MVI_40191',\n",
       " './Insight-MVT_Annotation_Train/MVI_40192',\n",
       " './Insight-MVT_Annotation_Train/MVI_40201',\n",
       " './Insight-MVT_Annotation_Train/MVI_40204',\n",
       " './Insight-MVT_Annotation_Train/MVI_40211',\n",
       " './Insight-MVT_Annotation_Train/MVI_40212',\n",
       " './Insight-MVT_Annotation_Train/MVI_40213',\n",
       " './Insight-MVT_Annotation_Train/MVI_40241',\n",
       " './Insight-MVT_Annotation_Train/MVI_40243',\n",
       " './Insight-MVT_Annotation_Train/MVI_40244',\n",
       " './Insight-MVT_Annotation_Train/MVI_40732',\n",
       " './Insight-MVT_Annotation_Train/MVI_40751',\n",
       " './Insight-MVT_Annotation_Train/MVI_40752',\n",
       " './Insight-MVT_Annotation_Train/MVI_40871',\n",
       " './Insight-MVT_Annotation_Train/MVI_40962',\n",
       " './Insight-MVT_Annotation_Train/MVI_40963',\n",
       " './Insight-MVT_Annotation_Train/MVI_40981',\n",
       " './Insight-MVT_Annotation_Train/MVI_40991',\n",
       " './Insight-MVT_Annotation_Train/MVI_40992',\n",
       " './Insight-MVT_Annotation_Train/MVI_41063',\n",
       " './Insight-MVT_Annotation_Train/MVI_41073',\n",
       " './Insight-MVT_Annotation_Train/MVI_63521',\n",
       " './Insight-MVT_Annotation_Train/MVI_63525',\n",
       " './Insight-MVT_Annotation_Train/MVI_63544',\n",
       " './Insight-MVT_Annotation_Train/MVI_63552',\n",
       " './Insight-MVT_Annotation_Train/MVI_63553',\n",
       " './Insight-MVT_Annotation_Train/MVI_63554',\n",
       " './Insight-MVT_Annotation_Train/MVI_63561',\n",
       " './Insight-MVT_Annotation_Train/MVI_63562',\n",
       " './Insight-MVT_Annotation_Train/MVI_63563']"
      ]
     },
     "execution_count": 7,
     "metadata": {},
     "output_type": "execute_result"
    }
   ],
   "source": [
    "## This is the raw data from UA-DEtrac Dataset ##\n",
    "\n",
    "directory_list = list()\n",
    "for root, dirs, files in os.walk(\"./Insight-MVT_Annotation_Train/\", topdown=False):\n",
    "    for name in dirs:\n",
    "        directory_list.append(os.path.join(root, name))\n",
    "directory_list    "
   ]
  },
  {
   "cell_type": "markdown",
   "metadata": {},
   "source": [
    "### There are 60 different video sequence folders each consisting of image frames ###"
   ]
  },
  {
   "cell_type": "code",
   "execution_count": 8,
   "metadata": {},
   "outputs": [
    {
     "data": {
      "text/plain": [
       "60"
      ]
     },
     "execution_count": 8,
     "metadata": {},
     "output_type": "execute_result"
    }
   ],
   "source": [
    "len(directory_list)"
   ]
  },
  {
   "cell_type": "markdown",
   "metadata": {},
   "source": [
    "## Getting annotation data / files"
   ]
  },
  {
   "cell_type": "code",
   "execution_count": 10,
   "metadata": {
    "scrolled": true
   },
   "outputs": [
    {
     "data": {
      "text/plain": [
       "['./DETRAC-Train-Annotations-XML/MVI_20011.xml',\n",
       " './DETRAC-Train-Annotations-XML/MVI_20012.xml',\n",
       " './DETRAC-Train-Annotations-XML/MVI_20032.xml',\n",
       " './DETRAC-Train-Annotations-XML/MVI_20033.xml',\n",
       " './DETRAC-Train-Annotations-XML/MVI_20034.xml',\n",
       " './DETRAC-Train-Annotations-XML/MVI_20035.xml',\n",
       " './DETRAC-Train-Annotations-XML/MVI_20051.xml',\n",
       " './DETRAC-Train-Annotations-XML/MVI_20052.xml',\n",
       " './DETRAC-Train-Annotations-XML/MVI_20061.xml',\n",
       " './DETRAC-Train-Annotations-XML/MVI_20062.xml',\n",
       " './DETRAC-Train-Annotations-XML/MVI_20063.xml',\n",
       " './DETRAC-Train-Annotations-XML/MVI_20064.xml',\n",
       " './DETRAC-Train-Annotations-XML/MVI_20065.xml',\n",
       " './DETRAC-Train-Annotations-XML/MVI_39761.xml',\n",
       " './DETRAC-Train-Annotations-XML/MVI_39771.xml',\n",
       " './DETRAC-Train-Annotations-XML/MVI_39781.xml',\n",
       " './DETRAC-Train-Annotations-XML/MVI_39801.xml',\n",
       " './DETRAC-Train-Annotations-XML/MVI_39811.xml',\n",
       " './DETRAC-Train-Annotations-XML/MVI_39821.xml',\n",
       " './DETRAC-Train-Annotations-XML/MVI_39851.xml',\n",
       " './DETRAC-Train-Annotations-XML/MVI_39861.xml',\n",
       " './DETRAC-Train-Annotations-XML/MVI_39931.xml',\n",
       " './DETRAC-Train-Annotations-XML/MVI_40131.xml',\n",
       " './DETRAC-Train-Annotations-XML/MVI_40141.xml',\n",
       " './DETRAC-Train-Annotations-XML/MVI_40152.xml',\n",
       " './DETRAC-Train-Annotations-XML/MVI_40161.xml',\n",
       " './DETRAC-Train-Annotations-XML/MVI_40162.xml',\n",
       " './DETRAC-Train-Annotations-XML/MVI_40171.xml',\n",
       " './DETRAC-Train-Annotations-XML/MVI_40172.xml',\n",
       " './DETRAC-Train-Annotations-XML/MVI_40181.xml',\n",
       " './DETRAC-Train-Annotations-XML/MVI_40191.xml',\n",
       " './DETRAC-Train-Annotations-XML/MVI_40192.xml',\n",
       " './DETRAC-Train-Annotations-XML/MVI_40201.xml',\n",
       " './DETRAC-Train-Annotations-XML/MVI_40204.xml',\n",
       " './DETRAC-Train-Annotations-XML/MVI_40211.xml',\n",
       " './DETRAC-Train-Annotations-XML/MVI_40212.xml',\n",
       " './DETRAC-Train-Annotations-XML/MVI_40213.xml',\n",
       " './DETRAC-Train-Annotations-XML/MVI_40241.xml',\n",
       " './DETRAC-Train-Annotations-XML/MVI_40243.xml',\n",
       " './DETRAC-Train-Annotations-XML/MVI_40244.xml',\n",
       " './DETRAC-Train-Annotations-XML/MVI_40732.xml',\n",
       " './DETRAC-Train-Annotations-XML/MVI_40751.xml',\n",
       " './DETRAC-Train-Annotations-XML/MVI_40752.xml',\n",
       " './DETRAC-Train-Annotations-XML/MVI_40871.xml',\n",
       " './DETRAC-Train-Annotations-XML/MVI_40962.xml',\n",
       " './DETRAC-Train-Annotations-XML/MVI_40963.xml',\n",
       " './DETRAC-Train-Annotations-XML/MVI_40981.xml',\n",
       " './DETRAC-Train-Annotations-XML/MVI_40991.xml',\n",
       " './DETRAC-Train-Annotations-XML/MVI_40992.xml',\n",
       " './DETRAC-Train-Annotations-XML/MVI_41063.xml',\n",
       " './DETRAC-Train-Annotations-XML/MVI_41073.xml',\n",
       " './DETRAC-Train-Annotations-XML/MVI_63521.xml',\n",
       " './DETRAC-Train-Annotations-XML/MVI_63525.xml',\n",
       " './DETRAC-Train-Annotations-XML/MVI_63544.xml',\n",
       " './DETRAC-Train-Annotations-XML/MVI_63552.xml',\n",
       " './DETRAC-Train-Annotations-XML/MVI_63553.xml',\n",
       " './DETRAC-Train-Annotations-XML/MVI_63554.xml',\n",
       " './DETRAC-Train-Annotations-XML/MVI_63561.xml',\n",
       " './DETRAC-Train-Annotations-XML/MVI_63562.xml',\n",
       " './DETRAC-Train-Annotations-XML/MVI_63563.xml']"
      ]
     },
     "execution_count": 10,
     "metadata": {},
     "output_type": "execute_result"
    }
   ],
   "source": [
    "## These are the annotation files for each sequence in the UA-Detrac Dataset ##\n",
    "\n",
    "annotation_file_list = list()\n",
    "for root, dirs, files in os.walk(\"./DETRAC-Train-Annotations-XML/\", topdown=False):\n",
    "    for name in files:\n",
    "        annotation_file_list.append(os.path.join(root, name))\n",
    "annotation_file_list"
   ]
  },
  {
   "cell_type": "code",
   "execution_count": 12,
   "metadata": {},
   "outputs": [
    {
     "data": {
      "text/plain": [
       "60"
      ]
     },
     "execution_count": 12,
     "metadata": {},
     "output_type": "execute_result"
    }
   ],
   "source": [
    "## There are 60 annotation files for 60 image sequence folders ##\n",
    "len(annotation_file_list)"
   ]
  },
  {
   "cell_type": "markdown",
   "metadata": {},
   "source": [
    "## Dataset Generation Code ##"
   ]
  },
  {
   "cell_type": "code",
   "execution_count": null,
   "metadata": {},
   "outputs": [],
   "source": [
    "whole_dataset = []\n",
    "datapoints_pos = []\n",
    "datapoints_neg = []\n",
    "\n",
    "## Loop for reading all the image information\n",
    "\n",
    "for flag in range(0, total_video_seq):\n",
    "    imageseq_folder_name = directory_list[flag]\n",
    "    annotation_file_name = annotation_file_list[flag]  \n",
    "   \n",
    "    ########Image reading from the directory of image files #######\n",
    "    \n",
    "    # In this portion of the code image files are read from the UA-Detrac dataset\n",
    "    # \n",
    "    \n",
    "    \n",
    "    #x=0\n",
    "    #image_batch= []\n",
    "    frame_num = 0\n",
    "    seq_image_info = []\n",
    "    for file in glob.glob(\"{}/*.jpg\".format(imageseq_folder_name)):\n",
    "        \n",
    "        image_dict= {}\n",
    "        #image_batch.append([cv2.imread(file, cv2.IMREAD_COLOR|cv2.IMREAD_IGNORE_ORIENTATION)])\n",
    "        frame_num+=1\n",
    "        image_dict['frame_num'] = frame_num\n",
    "        img = cv2.imread(file, cv2.IMREAD_COLOR|cv2.IMREAD_IGNORE_ORIENTATION)\n",
    "        image_dict['img'] = img\n",
    "        image_size= img.size\n",
    "        image_dict['image_size']= image_size \n",
    "        image_shape = img.shape\n",
    "        image_dict['image_shape']= image_shape\n",
    "        image_x = image_shape[0]\n",
    "        image_y = image_shape[1]\n",
    "        image_dict['image_x'] = image_x\n",
    "        image_dict['image_y'] = image_y\n",
    "        image_dict['image_channel'] = image_shape[2]\n",
    "\n",
    "        seq_image_info.append(image_dict)\n",
    "        #x+=1\n",
    "        #if x==10:\n",
    "         #   break\n",
    "    print(len(seq_image_info))  # contains all the image information per image frame in a given image sequence \n",
    "\n",
    "    ############ Parsing the Image Annotations and Bbox\n",
    "\n",
    "    tree = ET.parse(annotation_file_name)\n",
    "    root = tree.getroot()\n",
    "    #root\n",
    "    #root.tag\n",
    "    frames = tree.findall('frame')\n",
    "    #len(frames)\n",
    "    \n",
    "    all_frames_in_sequence = []\n",
    "    #seq_bbox_info = []\n",
    "    for frame in frames:\n",
    "        frame_info = {}\n",
    "\n",
    "        density = frame.attrib['density'] # string '7'\n",
    "        frame_num = int(frame.attrib['num']) # string '1'    \n",
    "\n",
    "        frame_info['frame_num'] = frame_num\n",
    "\n",
    "        #all_frames_in_sequence.append(frame_num)\n",
    "        #print(\"frame_num %s\" %frame_num)\n",
    "\n",
    "\n",
    "        target_list = frame.findall('target_list')\n",
    "        if len(target_list)>0:\n",
    "            tl = target_list[0]\n",
    "            targets = tl.findall('target')\n",
    "            num_of_targets_in_frame = len(targets)\n",
    "            #print(\"number of target %s in frame %s\" % (num_of_targets_in_frame, frame_num)\n",
    "\n",
    "            target_ids = []\n",
    "            targets_in_frame = []                \n",
    "            for target in targets:\n",
    "                target_info ={}\n",
    "\n",
    "                target_id = int (target.attrib['id'])\n",
    "                #print(\"target_id %s\" %target_id)\n",
    "                target_ids.append(target_id)            \n",
    "                #print(target.find('box').attrib)\n",
    "                bbox = target.find('box').attrib\n",
    "                #print(bbox)\n",
    "                xl = float(bbox['left'])\n",
    "                yb = float(bbox['top'])\n",
    "                xr = float(bbox['width'])+xl\n",
    "                yt = float(bbox['height'])+ yb\n",
    "\n",
    "                bbox_region = [xl, yb, xr, yt]\n",
    "                #target_info['frame_num']=frame_num\n",
    "                target_info['target_id']=target_id\n",
    "                target_info['bbox_region']= bbox_region\n",
    "\n",
    "                targets_in_frame.append(target_info)                       \n",
    "                #print(yt, xr)\n",
    "            frame_info['frame_targets'] = targets_in_frame\n",
    "            all_frames_in_sequence.append(frame_info)\n",
    "\n",
    "\n",
    "            \"\"\"    \n",
    "                ### Attributes in target ###\n",
    "                attribute = target.find('attribute').attrib            \n",
    "                orientation = attribute['orientation']\n",
    "                speed = attribute['speed']\n",
    "                trajectory_length = attribute['trajectory_length']\n",
    "                truncation_ratio = attribute['truncation_ratio']\n",
    "                vehicle_type = attribute['vehicle_type']\n",
    "                oc_ids=[]\n",
    "\n",
    "                ### Occlusion parameters in target ###\n",
    "                if target.find('occlusion') != None :\n",
    "                    occlusion = target.find('occlusion')\n",
    "                    region_overlap = occlusion.find('region_overlap').attrib\n",
    "                    oc_id = region_overlap['occlusion_id']\n",
    "                    oc_status = region_overlap['occlusion_id']\n",
    "                    oc_xl = region_overlap['left'] \n",
    "                    oc_yb = region_overlap['top']\n",
    "                    oc_xr = oc_xl + region_overlap['width']\n",
    "                    oc_yt = oc_yb + region_overlap['height']\n",
    "                    oc_ids.append(oc_id)\n",
    "                    #print(\"occlusion %s\" %oc_id) \n",
    "\n",
    "               \"\"\"     \n",
    "            #print(frame_num)\n",
    "            #print(target_ids)\n",
    "    print(len(all_frames_in_sequence))\n",
    "    all_frames_in_sequence\n",
    "\n",
    "    ######### Image dataset generation by Cropping\n",
    "    a =0\n",
    "    all_targets = []\n",
    "    all_frame = []\n",
    "    \n",
    "    for frame in all_frames_in_sequence:\n",
    "\n",
    "        for frame_image in seq_image_info:\n",
    "\n",
    "            if (frame['frame_num'] == frame_image['frame_num']):\n",
    "                frm_info = {}\n",
    "                tar_in_frame = []\n",
    "                frm_info['frm_num'] = frame['frame_num']\n",
    "\n",
    "\n",
    "                for target_image in frame['frame_targets']:\n",
    "                    trgt_info = {}\n",
    "\n",
    "                    tar_id = target_image['target_id']\n",
    "                    tar_bbox = target_image['bbox_region']                \n",
    "                    x1 = int(tar_bbox[0])\n",
    "                    x2 = int(tar_bbox[2])\n",
    "                    y1 = int(tar_bbox[1])\n",
    "                    y2 = int(tar_bbox[3])\n",
    "\n",
    "                    frm_img = frame_image['img']\n",
    "                    tar_image = frm_img[y1:y2, x1:x2]\n",
    "\n",
    "                    trgt_info['tar_id'] = tar_id\n",
    "                    trgt_info['tar_image'] = tar_image\n",
    "                    tar_in_frame.append(trgt_info)\n",
    "                    all_targets.append(trgt_info)\n",
    "\n",
    "                frm_info['frm_targets'] = tar_in_frame\n",
    "        all_frame.append(frm_info)\n",
    "\n",
    "    #print(len(all_frame))\n",
    "    \n",
    "    cnt = 0\n",
    "\n",
    "    for x in range (0, len(all_frame)-2,2):\n",
    "        targets_in_fst_frm = all_frame[x]['frm_targets']\n",
    "        targets_in_scnd_frm = all_frame[x+1]['frm_targets']\n",
    "\n",
    "        for frst_frm_tar in  targets_in_fst_frm:\n",
    "            for scnd_frm_tar in targets_in_scnd_frm:\n",
    "\n",
    "                data_part_pos={}\n",
    "                data_part_neg= {}\n",
    "\n",
    "                if (frst_frm_tar['tar_id'] == scnd_frm_tar ['tar_id']):\n",
    "\n",
    "                    data_part_pos['pos1'] = frst_frm_tar['tar_image']\n",
    "                    data_part_pos['pos2'] = scnd_frm_tar['tar_image']\n",
    "                    datapoints_pos.append(data_part_pos)\n",
    "\n",
    "                elif (frst_frm_tar['tar_id'] != scnd_frm_tar ['tar_id']):\n",
    "\n",
    "                    data_part_neg['neg1'] =  frst_frm_tar['tar_image']\n",
    "                    data_part_neg['neg2'] =  scnd_frm_tar['tar_image']\n",
    "                    datapoints_neg.append(data_part_neg)\n",
    "#datapoints_neg[0]\n",
    "#datapoints_pos[0]\n",
    "#len(datapoints_pos)\n",
    "#len(datapoints_neg)"
   ]
  },
  {
   "cell_type": "code",
   "execution_count": null,
   "metadata": {},
   "outputs": [],
   "source": []
  },
  {
   "cell_type": "markdown",
   "metadata": {},
   "source": [
    "## Training, Validation and Test dataset creation from the generated data points ##"
   ]
  },
  {
   "cell_type": "code",
   "execution_count": null,
   "metadata": {},
   "outputs": [],
   "source": [
    "train_size = int(0.6 * len(datapoints_pos))\n",
    "dev_size = int (0.5*(len(datapoints_pos)-train_size))\n",
    "test_size = len(datapoints_pos) - (train_size+dev_size)\n",
    "train_dataset, dev_dataset, test_dataset = torch.utils.data.random_split(datapoints_pos, [train_size, dev_size,test_size])"
   ]
  },
  {
   "cell_type": "markdown",
   "metadata": {},
   "source": [
    "## Image Data set Store ##"
   ]
  },
  {
   "cell_type": "code",
   "execution_count": null,
   "metadata": {},
   "outputs": [],
   "source": [
    "#positive pair train image dataset\n",
    "## for validation and test dataset replace the folder with validation (dev_dataset )or test_dataset folder\n",
    "\n",
    "x =0\n",
    "i=0\n",
    "for dtpoint in train_dataset:\n",
    "    img1 = dtpoint['pos1']\n",
    "    img2 = dtpoint['pos2']    \n",
    "    os.makedirs(os.path.join('D:/Projects/Tracking Project/Datasets/UA-Detrac Dataset/siamese_dataset/train_dataset/', 'point' + str(i)))\n",
    "    cv2.imwrite(\"D:/Projects/Tracking Project/Datasets/UA-Detrac Dataset/siamese_dataset/train_dataset/point{}/point_{}_pos1.jpg\".format(i,i), img1)\n",
    "    cv2.imwrite(\"D:/Projects/Tracking Project/Datasets/UA-Detrac Dataset/siamese_dataset/train_dataset/point{}/point_{}_pos2.jpg\".format(i,i), img2)\n",
    "    i+=1\n",
    "#     x+=1\n",
    "#     if x == 10:\n",
    "#         break\n",
    "\n"
   ]
  },
  {
   "cell_type": "code",
   "execution_count": 2,
   "metadata": {},
   "outputs": [],
   "source": [
    "## Checking some of the generated datapoints"
   ]
  },
  {
   "cell_type": "code",
   "execution_count": null,
   "metadata": {},
   "outputs": [],
   "source": [
    "i = 0\n",
    "cv2.imshow(\"cropped\", datapoints_pos[i]['pos1'])\n",
    "cv2.waitKey(0)\n",
    "cv2.destroyAllWindows()\n",
    "cv2.imshow(\"cropped\", datapoints_pos[i]['pos2'])\n",
    "cv2.waitKey(0)\n",
    "cv2.destroyAllWindows()"
   ]
  }
 ],
 "metadata": {
  "kernelspec": {
   "display_name": "Python 3",
   "language": "python",
   "name": "python3"
  },
  "language_info": {
   "codemirror_mode": {
    "name": "ipython",
    "version": 3
   },
   "file_extension": ".py",
   "mimetype": "text/x-python",
   "name": "python",
   "nbconvert_exporter": "python",
   "pygments_lexer": "ipython3",
   "version": "3.6.5"
  }
 },
 "nbformat": 4,
 "nbformat_minor": 2
}
